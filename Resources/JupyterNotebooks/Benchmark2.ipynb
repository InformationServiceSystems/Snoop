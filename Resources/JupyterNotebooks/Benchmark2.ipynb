{
 "cells": [
  {
   "cell_type": "code",
   "execution_count": 1,
   "metadata": {},
   "outputs": [],
   "source": [
    "from sklearn.metrics.pairwise import cosine_similarity\n",
    "from sklearn.preprocessing import minmax_scale"
   ]
  },
  {
   "cell_type": "code",
   "execution_count": 2,
   "metadata": {},
   "outputs": [],
   "source": [
    "from sentence_transformers import SentenceTransformer, util"
   ]
  },
  {
   "cell_type": "code",
   "execution_count": 3,
   "metadata": {},
   "outputs": [],
   "source": [
    "model = SentenceTransformer('sentence-transformers/all-mpnet-base-v2')"
   ]
  },
  {
   "cell_type": "code",
   "execution_count": 6,
   "metadata": {},
   "outputs": [],
   "source": [
    "setOfSequences = [\n",
    "    # Atonement\n",
    "    \"\"\"Drama, Romance, War, Performance of a play, Spying, Argument, Accidental breaking, Climbing into fountain, Misinterpretation, Note drafting, Note reading, Description sharing, Introduction, Library encounter, Misinterpretation of rape, Rape incident, Arrest, Release from prison, Journey, Joining the army, Nursing unit joining, Regret and realization, Apology, Revelation, Interview, Imagined reunion\"\"\",\n",
    "    # Australia\n",
    "    \"\"\"Drama, Romance, War,Travel to Australia, Murder of Lady Sarah's Husband, Attempted Control of Faraway Downs, Negotiation of Beef Prices, Lady Sarah Fires Fletcher, Nullah's Mother Drowns, Cattle Drive to Darwin, Lady Sarah and Drover Fall in Love, Cattle Drive Through Never Never Desert, Arrival at Darwin and Cattle Loading, Return to Faraway Downs, Nullah's Abduction to Mission Island, Rescue of Nullah and Other Children, Japanese Attack on Mission Island and Darwin, Reunion of Lady Sarah, Drover, and Nullah, Death of Fletcher, Return of Nullah with 'King George'\"\"\",\n",
    "    # Titanic\n",
    "    \"\"\"Drama, Historical, Tragedy, Lovett and his team search the wreck of RMS Titanic, they find a drawing of a young nude woman wearing the necklace, Rose contacts Lovett and identifies herself as the woman in the drawing, Rose recounts her experiences as a Titanic passenger, Rose and Jack develop a friendship, Rose falls in love with Jack, Rose and Jack have sex in a Renault Towncar inside the cargo hold, the ship collides with an iceberg, Cal frames Jack for theft, the ship sinks, Rose and Jack try to survive, Jack dies of hypothermia, Rose is rescued by RMS Carpathia, Rose drops the necklace into the sea\"\"\",\n",
    "    \n",
    "    # Insidious\n",
    "    \"\"\"Psychological Horror, Supernatural Thriller, Family moves into a new home, Encounter with a mysterious entity, Coma of one of the children, Frightening paranormal events in the house, Supernatural activity continues in the new home, Investigation by psychic and paranormal investigators, Revelation about astral projection ability, Rescue mission into a purgatory dimension, Dangerous encounters with ghosts, Confrontation with a possessed individual\"\"\",\n",
    "    # Paranormal Activity\n",
    "    \"\"\"Haunted house, Paranormal, Horror, Thriller, Mystery, Haunted house occurrence, Paranormal activity recording, Visiting a psychic, Demonic manifestation, Ouija board encounter, Investigation of paranormal occurrences, Possession by evil entity, Escalation of paranormal activity, Violent incident, Demonic transformation, Police investigation of paranormal case, Capture of possessed individual, Death event, Capture event\"\"\"\n",
    "]"
   ]
  },
  {
   "cell_type": "code",
   "execution_count": 23,
   "metadata": {},
   "outputs": [],
   "source": [
    "setOfSummaries = [\n",
    "    # Atonement\n",
    "    \"\"\"In 1935 England, Briony Tallis misinterprets a heated encounter between her sister Cecilia and Robbie Turner, mistakenly believing Robbie is a threat. Briony's false accusation leads to Robbie's arrest, and he is later sent to fight in World War II. Years later, as an elderly and remorseful novelist, Briony reveals the tragic truth that she fabricated a happy ending for Cecilia and Robbie in her book \"Atonement,\" in an attempt to atone for her mistake. In reality, Robbie died in the war, and Cecilia drowned during the Blitz, leaving Briony burdened with guilt and unable to truly mend what she had broken.\"\"\",\n",
    "    # Australia\n",
    "    \"\"\"In 1939, Lady Sarah Ashley travels to Australia to confront her husband and take control of their cattle station, Faraway Downs. Alongside a group of diverse individuals, including the Drover and Nullah, a young mixed-race boy, they face challenges and hardships as they drive the cattle to Darwin. Through their journey, Lady Sarah and the Drover fall in love, and they find strength and resilience in the rugged Australian territory. Ultimately, they overcome their adversaries, reunite with Nullah, and find a sense of home and belonging in the Outback.\"\"\",\n",
    "    # Titanic\n",
    "    \"\"\"In 1996, treasure hunter Brock Lovett searches the Titanic wreckage for a valuable diamond necklace but finds a drawing of a young woman instead. The woman, Rose Dawson Calvert, comes forward and recounts her experience as a passenger on the ill-fated Titanic in 1912. Rose, engaged to the wealthy Cal Hockley, falls in love with the penniless artist Jack Dawson onboard the ship, and their forbidden romance unfolds amidst the tragedy of the ship sinking, culminating in Rose's ultimate act of freedom and reunion with Jack in the afterlife.\"\"\",\n",
    "    \n",
    "    # Insidious\n",
    "    \"\"\"After their son Dalton slips into a coma and supernatural occurrences plague their home, the Lambert family seeks the help of psychic Elise Rainier. They discover that Dalton's consciousness is trapped in a purgatory dimension called \"The Further\" and spirits desire to possess his comatose body. Josh, the father, confronts his own suppressed ability to astral project and ventures into The Further to save Dalton, but he becomes possessed by a vengeful spirit, leading to a chilling twist ending where Renai realizes the truth.\"\"\",\n",
    "    # Paranormal Activity\n",
    "    \"\"\"Katie and Micah experience escalating paranormal activity in their new home, which Micah documents with a camera. They discover that Katie is being haunted by a malevolent demon, but Micah's attempts to communicate with it only worsen the situation. As the hauntings become more violent, Katie becomes possessed by the demon and kills Micah before disappearing, leaving a chilling ending to the found-footage horror film.\"\"\"\n",
    "]"
   ]
  },
  {
   "cell_type": "code",
   "execution_count": 24,
   "metadata": {},
   "outputs": [],
   "source": [
    "encodedSequences = model.encode(setOfSequences)\n",
    "encodedSummaries = model.encode(setOfSummaries)"
   ]
  },
  {
   "cell_type": "code",
   "execution_count": 25,
   "metadata": {},
   "outputs": [],
   "source": [
    "# Search for a sequences similar to a sequence from a horror movie: Annabelle\n",
    "searchSeq = \"\"\"Horror, Supernatural, Mystery, Thriller, Drama, Suspense, Home invasion and murder, Paranormal activities, Birth of a child, Discovery of the doll and paranormal events, Investigation into the cult and demonic summoning, Encounter with the demon and revelation of its true nature, Possession of the doll by the demon, Abduction of a child and final confrontation, Sacrifice to save and defeat the demon, Safe placement of the doll\"\"\"\n",
    "\n",
    "# Embed this\n",
    "encodedSeq = model.encode(searchSeq)\n",
    "\n",
    "# Get cosine similarities\n",
    "simsSequences = cosine_similarity(encodedSeq.reshape(1,-1), encodedSequences)"
   ]
  },
  {
   "cell_type": "code",
   "execution_count": 26,
   "metadata": {},
   "outputs": [
    {
     "data": {
      "text/plain": [
       "array([[0.41093218, 0.37717426, 0.41341525, 0.5261786 , 0.68832374]],\n",
       "      dtype=float32)"
      ]
     },
     "execution_count": 26,
     "metadata": {},
     "output_type": "execute_result"
    }
   ],
   "source": [
    "simsSequences"
   ]
  },
  {
   "cell_type": "code",
   "execution_count": 27,
   "metadata": {},
   "outputs": [],
   "source": [
    "searchSummary = \"\"\"In Santa Monica, a couple's peaceful life is shattered when their neighbors are murdered by members of a cult. After the incident, paranormal activities ensue, and the couple discovers that a demonic presence is attached to a vintage porcelain doll named Annabelle. As they struggle to protect their newborn daughter from the malevolent entity, they seek help from a priest and a bookseller, but ultimately make a sacrifice to save their child and banish the demon, with the doll finding its way into the possession of paranormal investigators the Warrens.\"\"\"\n",
    "\n",
    "# Embed this\n",
    "encodedSumm = model.encode(searchSummary)\n",
    "\n",
    "# Get cosine similarities\n",
    "simsSummaries = cosine_similarity(encodedSumm.reshape(1,-1), encodedSummaries)"
   ]
  },
  {
   "cell_type": "code",
   "execution_count": 28,
   "metadata": {},
   "outputs": [
    {
     "data": {
      "text/plain": [
       "array([[0.23624243, 0.35797095, 0.32215595, 0.45798004, 0.6583817 ]],\n",
       "      dtype=float32)"
      ]
     },
     "execution_count": 28,
     "metadata": {},
     "output_type": "execute_result"
    }
   ],
   "source": [
    "simsSummaries"
   ]
  },
  {
   "cell_type": "code",
   "execution_count": null,
   "metadata": {},
   "outputs": [],
   "source": []
  }
 ],
 "metadata": {
  "kernelspec": {
   "display_name": "Python 3 (ipykernel)",
   "language": "python",
   "name": "python3"
  },
  "language_info": {
   "codemirror_mode": {
    "name": "ipython",
    "version": 3
   },
   "file_extension": ".py",
   "mimetype": "text/x-python",
   "name": "python",
   "nbconvert_exporter": "python",
   "pygments_lexer": "ipython3",
   "version": "3.10.4"
  }
 },
 "nbformat": 4,
 "nbformat_minor": 5
}
